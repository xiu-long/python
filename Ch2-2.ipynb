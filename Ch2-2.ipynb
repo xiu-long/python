{
 "cells": [
  {
   "cell_type": "code",
   "execution_count": null,
   "metadata": {},
   "outputs": [],
   "source": []
  },
  {
   "cell_type": "code",
   "execution_count": 7,
   "metadata": {},
   "outputs": [
    {
     "name": "stdout",
     "output_type": "stream",
     "text": [
      "<class 'int'>\n",
      "<class 'float'>\n",
      "123\n",
      "123.0\n",
      "The value of x is125.0and y is100\n",
      "The value of x is 125.0 and y is  100\n"
     ]
    }
   ],
   "source": [
    "x=12\n",
    "print (type(x))\n",
    "y=float(x)+0.5\n",
    "print  (type(y))\n",
    "print  (int('123'))\n",
    "print  (float('123'))\n",
    "x=10*12.5\n",
    "y=10*10\n",
    "s='The value of x is'+str(x)+'and y is'+str(y)\n",
    "print (s)\n",
    "print('The value of x is {} and y is  {}'.format(x,y))"
   ]
  },
  {
   "cell_type": "markdown",
   "metadata": {},
   "source": [
    "# 非內置模組"
   ]
  },
  {
   "cell_type": "code",
   "execution_count": 8,
   "metadata": {},
   "outputs": [
    {
     "name": "stdout",
     "output_type": "stream",
     "text": [
      "3.141592653589793\n",
      "8.0\n",
      "11.6667348824603\n",
      "5.0\n"
     ]
    }
   ],
   "source": [
    "import math\n",
    "print (math.pi)\n",
    "print (math.pow(2,3))#傳回具有指定乘冪數的指定數字\n",
    "print (8.5*2.5*math.sin(37.0/100*math.pi/2))#傳回指定角的正弦函數\n",
    "print (math.sqrt(25)) #開根號"
   ]
  },
  {
   "cell_type": "markdown",
   "metadata": {},
   "source": [
    "# 算圓面積"
   ]
  },
  {
   "cell_type": "code",
   "execution_count": 11,
   "metadata": {},
   "outputs": [
    {
     "name": "stdout",
     "output_type": "stream",
     "text": [
      "請輸入半徑:10\n",
      "圓面積為: 314.1592653589793\n"
     ]
    }
   ],
   "source": [
    "import math\n",
    "r=input('請輸入半徑:')#設半徑\n",
    "area=float(r)*float(r)*math.pi\n",
    "print(\"圓面積為:\",area)\n"
   ]
  },
  {
   "cell_type": "code",
   "execution_count": null,
   "metadata": {},
   "outputs": [],
   "source": [
    "# "
   ]
  },
  {
   "cell_type": "code",
   "execution_count": null,
   "metadata": {},
   "outputs": [],
   "source": []
  }
 ],
 "metadata": {
  "kernelspec": {
   "display_name": "Python 3",
   "language": "python",
   "name": "python3"
  },
  "language_info": {
   "codemirror_mode": {
    "name": "ipython",
    "version": 3
   },
   "file_extension": ".py",
   "mimetype": "text/x-python",
   "name": "python",
   "nbconvert_exporter": "python",
   "pygments_lexer": "ipython3",
   "version": "3.7.4"
  }
 },
 "nbformat": 4,
 "nbformat_minor": 2
}
