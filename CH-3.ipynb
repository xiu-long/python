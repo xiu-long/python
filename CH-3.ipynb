{
 "cells": [
  {
   "cell_type": "markdown",
   "metadata": {},
   "source": [
    "# 流程控制"
   ]
  },
  {
   "cell_type": "markdown",
   "metadata": {},
   "source": [
    "# if else"
   ]
  },
  {
   "cell_type": "code",
   "execution_count": 4,
   "metadata": {},
   "outputs": [
    {
     "name": "stdout",
     "output_type": "stream",
     "text": [
      "b的數比較大\n"
     ]
    }
   ],
   "source": [
    "a =3\n",
    "b=5\n",
    "if a<b :\n",
    "    print('b的數比較大')\n",
    "else :\n",
    "    print('a的數比較大')"
   ]
  },
  {
   "cell_type": "markdown",
   "metadata": {},
   "source": [
    "# for 迴圈"
   ]
  },
  {
   "cell_type": "code",
   "execution_count": 7,
   "metadata": {},
   "outputs": [
    {
     "name": "stdout",
     "output_type": "stream",
     "text": [
      "55\n"
     ]
    }
   ],
   "source": [
    "sum =0\n",
    "for count in range(1,11,1) : #1~10(不含11),step 1/ 也=(11)\n",
    "    sum =sum+count\n",
    "print(sum)"
   ]
  },
  {
   "cell_type": "code",
   "execution_count": 8,
   "metadata": {},
   "outputs": [
    {
     "name": "stdout",
     "output_type": "stream",
     "text": [
      "f\n",
      "o\n",
      "r\n",
      " \n",
      "s\n",
      "t\n",
      "a\n",
      "t\n",
      "m\n",
      "e\n",
      "n\n",
      "t\n",
      "end list\n"
     ]
    }
   ],
   "source": [
    "mylist ='for statment'\n",
    "for word in mylist:\n",
    "    print(word)\n",
    "else :\n",
    "    print('end list')"
   ]
  },
  {
   "cell_type": "markdown",
   "metadata": {},
   "source": [
    "# 雞兔同籠，假設農場雞兔共35隻，94隻腳，則雞有幾隻?兔子有幾隻?"
   ]
  },
  {
   "cell_type": "code",
   "execution_count": 11,
   "metadata": {},
   "outputs": [
    {
     "name": "stdout",
     "output_type": "stream",
     "text": [
      "雞有 23 隻 兔子有 12 隻\n"
     ]
    }
   ],
   "source": [
    "for chicken in range(0,35):\n",
    "    rabbit=35-chicken# 兔子的數量=總數35隻-雞的數量\n",
    "    if(2*chicken+4*rabbit)==94:#雞的腳2隻+兔子的腳4隻=94隻\n",
    "        print(\"雞有\",chicken,\"隻\",\"兔子有\",rabbit,\"隻\")\n",
    "        break\n",
    "else :\n",
    "    print(\"無解\")\n"
   ]
  },
  {
   "cell_type": "markdown",
   "metadata": {},
   "source": [
    "# while迴圈"
   ]
  },
  {
   "cell_type": "code",
   "execution_count": 12,
   "metadata": {},
   "outputs": [
    {
     "name": "stdout",
     "output_type": "stream",
     "text": [
      "1+2+3+...+10= 55\n"
     ]
    }
   ],
   "source": [
    "sum =0\n",
    "count =1\n",
    "while count<=10:\n",
    "    sum=sum+count\n",
    "    count=count+1\n",
    "print(\"1+2+3+...+10=\",sum)    "
   ]
  },
  {
   "cell_type": "markdown",
   "metadata": {},
   "source": [
    "# 本金10000元 ,年利率1%,請問銀行存款多久會加倍? "
   ]
  },
  {
   "cell_type": "code",
   "execution_count": 5,
   "metadata": {},
   "outputs": [
    {
     "name": "stdout",
     "output_type": "stream",
     "text": [
      "70 年以後,存款為 20067 元\n"
     ]
    }
   ],
   "source": [
    "x=10000\n",
    "year=0\n",
    "while x <= 20000:#要多久才會20000\n",
    " year += 1\n",
    " x=x*1.01\n",
    "print(str(year),\"年以後,存款為\",int(x),\"元\")"
   ]
  },
  {
   "cell_type": "markdown",
   "metadata": {},
   "source": [
    "# 猜數字"
   ]
  },
  {
   "cell_type": "code",
   "execution_count": 7,
   "metadata": {},
   "outputs": [
    {
     "name": "stdout",
     "output_type": "stream",
     "text": [
      "請輸入1~100之間的數字；1\n",
      "答錯囉!\n",
      "請輸入1~100之間的數字；5\n",
      "答錯囉!\n",
      "請輸入1~100之間的數字；11\n",
      "恭喜答對了,數字是: 11\n"
     ]
    }
   ],
   "source": [
    "import random\n",
    "number=random.randint(1,10)#隨機產生數字\n",
    "number=11\n",
    "while True:\n",
    "    guess=int(input(\"請輸入1~100之間的數字；\"))\n",
    "    if guess == number:\n",
    "        print('恭喜答對了,數字是:',number)\n",
    "        break\n",
    "    else:\n",
    "        print('答錯囉!')"
   ]
  },
  {
   "cell_type": "code",
   "execution_count": null,
   "metadata": {},
   "outputs": [],
   "source": []
  }
 ],
 "metadata": {
  "kernelspec": {
   "display_name": "Python 3",
   "language": "python",
   "name": "python3"
  },
  "language_info": {
   "codemirror_mode": {
    "name": "ipython",
    "version": 3
   },
   "file_extension": ".py",
   "mimetype": "text/x-python",
   "name": "python",
   "nbconvert_exporter": "python",
   "pygments_lexer": "ipython3",
   "version": "3.7.4"
  }
 },
 "nbformat": 4,
 "nbformat_minor": 2
}
