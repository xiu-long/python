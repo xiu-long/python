{
 "cells": [
  {
   "cell_type": "markdown",
   "metadata": {},
   "source": [
    "#  第四章 Python 物件\n",
    "# List 串列[ ]\n",
    "# Tuple 不能更新的字串()               \n",
    "# Dist 有鍵值key{}   "
   ]
  },
  {
   "cell_type": "code",
   "execution_count": 2,
   "metadata": {},
   "outputs": [
    {
     "name": "stdout",
     "output_type": "stream",
     "text": [
      "[]\n",
      "[]\n",
      "['python', 'js', 'SQL']\n",
      "python\n",
      "js\n",
      "SQL\n"
     ]
    }
   ],
   "source": [
    "my_list0=[]\n",
    "my_list1 = list()\n",
    "my_list2 = ['python', 'js', 'SQL']\n",
    "print(my_list0)\n",
    "print(my_list1)\n",
    "print(my_list2)\n",
    "print(my_list2[0])\n",
    "print(my_list2[1])\n",
    "print(my_list2[2])"
   ]
  },
  {
   "cell_type": "markdown",
   "metadata": {},
   "source": [
    " # 附加於最後"
   ]
  },
  {
   "cell_type": "code",
   "execution_count": 3,
   "metadata": {},
   "outputs": [
    {
     "name": "stdout",
     "output_type": "stream",
     "text": [
      "java\n",
      "4\n",
      "6\n"
     ]
    }
   ],
   "source": [
    "my_list2 = ['python', 'js', 'SQL']\n",
    "my_list2.append('java')\n",
    "print(my_list2[3])#長度len()\n",
    "print(len(my_list2))\n",
    "print(len(my_list2[0]))"
   ]
  },
  {
   "cell_type": "markdown",
   "metadata": {},
   "source": [
    "# 新增至特定位置"
   ]
  },
  {
   "cell_type": "code",
   "execution_count": null,
   "metadata": {},
   "outputs": [],
   "source": [
    "my_list3 = ['python', 'js', 'SQL']\n",
    "my_list3.insert(0, 'java')\n",
    "print(my_list3)"
   ]
  },
  {
   "cell_type": "markdown",
   "metadata": {},
   "source": [
    "# 刪除"
   ]
  },
  {
   "cell_type": "code",
   "execution_count": null,
   "metadata": {},
   "outputs": [],
   "source": [
    "my_list4 = ['java', 'python', 'js', 'SQL']\n",
    "del my_list4[0]\n",
    "print(my_list4)\n",
    "del my_list4[-1]\n",
    "print(my_list4)\n",
    "\n"
   ]
  },
  {
   "cell_type": "markdown",
   "metadata": {},
   "source": [
    "# 檢查是否存在"
   ]
  },
  {
   "cell_type": "code",
   "execution_count": null,
   "metadata": {},
   "outputs": [],
   "source": [
    "my_list4 = [\"py\",\"js\",\"SQL\",\"java\" ]\n",
    "print (\"java\" in my_list4)\n",
    "print (\"go\" in my_list4)"
   ]
  },
  {
   "cell_type": "markdown",
   "metadata": {},
   "source": [
    "# 串列重複"
   ]
  },
  {
   "cell_type": "code",
   "execution_count": null,
   "metadata": {},
   "outputs": [],
   "source": [
    "a=[1,2]\n",
    "print(a*5)#[1,2]重複5次"
   ]
  },
  {
   "cell_type": "markdown",
   "metadata": {},
   "source": [
    "# 串列取值"
   ]
  },
  {
   "cell_type": "code",
   "execution_count": null,
   "metadata": {},
   "outputs": [],
   "source": [
    "a=[1,2,3,4,5,6,7,8,9]\n",
    "b=a[0:3]#範圍取值\n",
    "print(b)\n",
    "c=a[0:9:2]#間隔取值\n",
    "print(c)\n",
    "del a[7:9]#刪除串列某範圍\n",
    "print (a)\n",
    "print (max(a))\n",
    "print (min(a))\n",
    "print (a.index(1))#查詢所在位置的值\n",
    "print (a.count(1))#數1有幾個\n",
    "a.reverse()#反轉\n",
    "print(a)\n",
    "a.sort #排序\n",
    "print(a)"
   ]
  },
  {
   "cell_type": "markdown",
   "metadata": {},
   "source": [
    "# Tuple(元組) \n",
    "# tuple(元組) 可視為不改變的串列,tuple跟list很像,但是我們不能新增 刪除或更新的tuple的元素,它的好處有\n",
    "#1.占用較少空間\n",
    "#2.可當作dicionary\n",
    "#3.可當作函式引數"
   ]
  },
  {
   "cell_type": "code",
   "execution_count": 1,
   "metadata": {},
   "outputs": [
    {
     "name": "stdout",
     "output_type": "stream",
     "text": [
      "('py', 'js', 'SQL', 'java')\n",
      "('go', 'c#', 'vb')\n",
      "go\n"
     ]
    }
   ],
   "source": [
    "a_tuple =(\"py\",\"js\",\"SQL\",\"java\")\n",
    "print(a_tuple)\n",
    "b_list=['go','c#','vb']\n",
    "b_tuple=tuple(b_list)\n",
    "print(b_tuple)\n",
    "print(b_tuple[0])"
   ]
  },
  {
   "cell_type": "markdown",
   "metadata": {},
   "source": [
    "# 字典(dictionary - dict)為帶有鍵值(key)的串列(list)"
   ]
  },
  {
   "cell_type": "code",
   "execution_count": null,
   "metadata": {},
   "outputs": [],
   "source": [
    "\n",
    "languages = {}\n",
    "languages = {'name':'python', 'version':'3.7'} #索引值(鍵值)可以自訂\n",
    "print(languages['name'])\n",
    "print(languages['version'])\n",
    "a={0:'python', 1:'java', 2:'SQL'}\n",
    "print(a[0])\n",
    "print(a[1])\n",
    "print(a[2])\n",
    "print(languages)\n",
    "print(languages.keys())\n",
    "print(languages.values())\n",
    "print(languages.items())\n",
    "print('name' in languages)"
   ]
  },
  {
   "cell_type": "code",
   "execution_count": null,
   "metadata": {},
   "outputs": [],
   "source": [
    "a = {'name':'python', 'version':'3.7'}\n",
    "print(a)\n",
    "b = a.copy()\n",
    "print(b)\n",
    "b.clear()\n",
    "print(b)\n",
    "print(a['name'])\n",
    "print(a.get('name'))\n",
    "a.update({'name':'java'})\n",
    "print(a)"
   ]
  }
 ],
 "metadata": {
  "kernelspec": {
   "display_name": "Python 3",
   "language": "python",
   "name": "python3"
  },
  "language_info": {
   "codemirror_mode": {
    "name": "ipython",
    "version": 3
   },
   "file_extension": ".py",
   "mimetype": "text/x-python",
   "name": "python",
   "nbconvert_exporter": "python",
   "pygments_lexer": "ipython3",
   "version": "3.7.4"
  }
 },
 "nbformat": 4,
 "nbformat_minor": 2
}
